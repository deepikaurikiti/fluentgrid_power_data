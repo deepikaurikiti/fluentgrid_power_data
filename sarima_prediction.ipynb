{
 "cells": [
  {
   "cell_type": "code",
   "execution_count": 5,
   "id": "6eb42469",
   "metadata": {},
   "outputs": [
    {
     "name": "stdout",
     "output_type": "stream",
     "text": [
      "256    977182.154059\n",
      "257    978040.859862\n",
      "258    978165.903829\n",
      "259    979056.791575\n",
      "260    979109.827904\n",
      "261    979138.884119\n",
      "262    979694.124790\n",
      "263    979828.189045\n",
      "264    979945.988647\n",
      "265    980055.398595\n",
      "266    980156.627298\n",
      "267    980279.443071\n",
      "268    980400.529889\n",
      "269    980525.291692\n",
      "270    980630.063408\n",
      "271    980707.457190\n",
      "272    987930.106967\n",
      "273    980825.802737\n",
      "274    980887.481443\n",
      "275    980916.054049\n",
      "276    980941.686897\n",
      "277    981383.431621\n",
      "278    982943.644259\n",
      "279    982954.397887\n",
      "Name: predicted_mean, dtype: float64\n"
     ]
    },
    {
     "data": {
      "image/png": "[encoded data removed]",
      "text/plain": [
       "<Figure size 432x288 with 1 Axes>"
      ]
     },
     "metadata": {
      "needs_background": "light"
     },
     "output_type": "display_data"
    }
   ],
   "source": [
    "import pandas as pd\n",
    "import numpy as np\n",
    "import matplotlib.pyplot as plt\n",
    "from statsmodels.tsa.statespace.sarimax import SARIMAX\n",
    "\n",
    "# Load the data into a DataFrame\n",
    "data=pd.read_excel(\"April Month data.xlsx\")\n",
    "\n",
    "#Fill all zero values in column with average of column\n",
    "df['IR']=df['IR'].replace(0,df['IR'].mean())\n",
    "df['IY']=df['IY'].replace(0,df['IY'].mean())\n",
    "df['IB']=df['IB'].replace(0,df['IB'].mean())\n",
    "df['kVarh']=df['kVarh'].replace(0,df['kVarh'].mean())\n",
    "\n",
    "# Convert the 'rtimeid' column to datetime\n",
    "data['rtimeid'] = pd.to_datetime(data['rtimeid'])\n",
    "\n",
    "data = pd.DataFrame(data)\n",
    "\n",
    "# Set 'rtimeid' as the index\n",
    "#data.set_index('rtimeid', inplace=True)\n",
    "\n",
    "# Extract the 'kWh' column as the time series data\n",
    "ts = data['kWh']\n",
    "\n",
    "# Define the SARIMA model\n",
    "order = (1, 1, 1)  # (p, d, q) order\n",
    "seasonal_order = (1, 1, 1, 24)  # (P, D, Q, S) seasonal order\n",
    "model = SARIMAX(ts, order=order, seasonal_order=seasonal_order)\n",
    "\n",
    "# Fit the model to the data\n",
    "model_fit = model.fit()\n",
    "\n",
    "# Forecast the next 24 time steps\n",
    "forecast_steps = 24\n",
    "forecast = model_fit.forecast(steps=forecast_steps)\n",
    "\n",
    "# Print the forecasted values\n",
    "print(forecast)\n",
    "\n",
    "# Visualize the original data and the forecasted values\n",
    "plt.plot(ts, label='Original Data')\n",
    "plt.plot(forecast, label='Forecasted Values')\n",
    "plt.xlabel('Time')\n",
    "plt.ylabel('kWh')\n",
    "plt.legend()\n",
    "plt.show()\n"
   ]
  },
  {
   "cell_type": "code",
   "execution_count": 3,
   "id": "bb1c9e32",
   "metadata": {},
   "outputs": [
    {
     "ename": "NameError",
     "evalue": "name 'p' is not defined",
     "output_type": "error",
     "traceback": [
      "\u001b[1;31m---------------------------------------------------------------------------\u001b[0m",
      "\u001b[1;31mNameError\u001b[0m                                 Traceback (most recent call last)",
      "Input \u001b[1;32mIn [3]\u001b[0m, in \u001b[0;36m<cell line: 11>\u001b[1;34m()\u001b[0m\n\u001b[0;32m      8\u001b[0m train_data \u001b[38;5;241m=\u001b[39m df\u001b[38;5;241m.\u001b[39miloc[:train_size]\n\u001b[0;32m      9\u001b[0m test_data \u001b[38;5;241m=\u001b[39m df\u001b[38;5;241m.\u001b[39miloc[train_size:]\n\u001b[1;32m---> 11\u001b[0m order \u001b[38;5;241m=\u001b[39m (\u001b[43mp\u001b[49m, d, q)  \u001b[38;5;66;03m# specify the order of the SARIMA model\u001b[39;00m\n\u001b[0;32m     12\u001b[0m seasonal_order \u001b[38;5;241m=\u001b[39m (P, D, Q, m)  \u001b[38;5;66;03m# specify the seasonal order of the SARIMA model\u001b[39;00m\n\u001b[0;32m     13\u001b[0m model \u001b[38;5;241m=\u001b[39m SARIMAX(train_data[\u001b[38;5;124m'\u001b[39m\u001b[38;5;124mkWh\u001b[39m\u001b[38;5;124m'\u001b[39m], order\u001b[38;5;241m=\u001b[39morder, seasonal_order\u001b[38;5;241m=\u001b[39mseasonal_order)\n",
      "\u001b[1;31mNameError\u001b[0m: name 'p' is not defined"
     ]
    }
   ],
   "source": [
    "import pandas as pd\n",
    "from statsmodels.tsa.statespace.sarimax import SARIMAX\n",
    "from sklearn.metrics import mean_squared_error\n",
    "\n",
    "df = pd.read_excel(\"April Month data.xlsx\", parse_dates=['rtimeid'], index_col='rtimeid')\n",
    "\n",
    "train_size = int(len(df) * 0.8)  # 80% for training\n",
    "train_data = df.iloc[:train_size]\n",
    "test_data = df.iloc[train_size:]\n",
    "\n",
    "order = (p, d, q)  # specify the order of the SARIMA model\n",
    "seasonal_order = (P, D, Q, m)  # specify the seasonal order of the SARIMA model\n",
    "model = SARIMAX(train_data['kWh'], order=order, seasonal_order=seasonal_order)\n",
    "model_fit = model.fit()\n",
    "\n",
    "predictions = model_fit.predict(start=len(train_data), end=len(df)-1)\n",
    "\n",
    "mse = mean_squared_error(test_data['kWh'], predictions)\n",
    "print('Mean Squared Error:', mse)\n",
    "\n"
   ]
  },
  {
   "cell_type": "code",
   "execution_count": null,
   "id": "200ee60a",
   "metadata": {},
   "outputs": [],
   "source": []
  }
 ],
 "metadata": {
  "kernelspec": {
   "display_name": "Python 3 (ipykernel)",
   "language": "python",
   "name": "python3"
  },
  "language_info": {
   "codemirror_mode": {
    "name": "ipython",
    "version": 3
   },
   "file_extension": ".py",
   "mimetype": "text/x-python",
   "name": "python",
   "nbconvert_exporter": "python",
   "pygments_lexer": "ipython3",
   "version": "3.9.12"
  }
 },
 "nbformat": 4,
 "nbformat_minor": 5
}
